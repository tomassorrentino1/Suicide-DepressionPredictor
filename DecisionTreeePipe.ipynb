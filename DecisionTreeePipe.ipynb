{
 "cells": [
  {
   "cell_type": "code",
   "execution_count": 1,
   "id": "277429e4",
   "metadata": {},
   "outputs": [],
   "source": [
    "import pandas as pd\n",
    "import numpy as np\n",
    "import re\n",
    "import plotly.express as px\n",
    "import seaborn as sns\n",
    "import matplotlib.pyplot as plt\n",
    "import warnings\n",
    "warnings.filterwarnings('ignore')"
   ]
  },
  {
   "cell_type": "code",
   "execution_count": 2,
   "id": "033b4310",
   "metadata": {},
   "outputs": [],
   "source": [
    "df = pd.read_csv('Suicide_Detection.csv', engine='python')\n"
   ]
  },
  {
   "cell_type": "code",
   "execution_count": 3,
   "id": "84b76ebd",
   "metadata": {},
   "outputs": [],
   "source": [
    "df = pd.get_dummies(df, columns = ['class'], drop_first = True)"
   ]
  },
  {
   "cell_type": "code",
   "execution_count": 4,
   "id": "c8e9b052",
   "metadata": {},
   "outputs": [],
   "source": [
    "df = df.iloc[:,1:]"
   ]
  },
  {
   "cell_type": "code",
   "execution_count": 5,
   "id": "69d0b66f",
   "metadata": {},
   "outputs": [],
   "source": [
    "df = df.iloc[220000:]\n"
   ]
  },
  {
   "cell_type": "code",
   "execution_count": 6,
   "id": "37555875",
   "metadata": {},
   "outputs": [],
   "source": [
    "#Importamos librerias para trabajar sobre text mining\n",
    "from nltk import RegexpTokenizer\n",
    "from nltk.stem.snowball import SnowballStemmer\n",
    "from nltk.corpus import stopwords\n",
    "from sklearn.feature_extraction.text import CountVectorizer"
   ]
  },
  {
   "cell_type": "code",
   "execution_count": 7,
   "id": "409b0b99",
   "metadata": {},
   "outputs": [
    {
     "data": {
      "text/html": [
       "<div>\n",
       "<style scoped>\n",
       "    .dataframe tbody tr th:only-of-type {\n",
       "        vertical-align: middle;\n",
       "    }\n",
       "\n",
       "    .dataframe tbody tr th {\n",
       "        vertical-align: top;\n",
       "    }\n",
       "\n",
       "    .dataframe thead th {\n",
       "        text-align: right;\n",
       "    }\n",
       "</style>\n",
       "<table border=\"1\" class=\"dataframe\">\n",
       "  <thead>\n",
       "    <tr style=\"text-align: right;\">\n",
       "      <th></th>\n",
       "      <th>text</th>\n",
       "    </tr>\n",
       "  </thead>\n",
       "  <tbody>\n",
       "    <tr>\n",
       "      <th>220000</th>\n",
       "      <td>My inability to sleep... ...It is frightening....</td>\n",
       "    </tr>\n",
       "    <tr>\n",
       "      <th>220001</th>\n",
       "      <td>I just woke up at 2 pm hows your day going?</td>\n",
       "    </tr>\n",
       "    <tr>\n",
       "      <th>220002</th>\n",
       "      <td>I want more snap streaks so I can see cute boi...</td>\n",
       "    </tr>\n",
       "    <tr>\n",
       "      <th>220003</th>\n",
       "      <td>I read an interesting article on notesI starte...</td>\n",
       "    </tr>\n",
       "    <tr>\n",
       "      <th>220004</th>\n",
       "      <td>The horrors of the climbing unit in Gym class ...</td>\n",
       "    </tr>\n",
       "  </tbody>\n",
       "</table>\n",
       "</div>"
      ],
      "text/plain": [
       "                                                     text\n",
       "220000  My inability to sleep... ...It is frightening....\n",
       "220001        I just woke up at 2 pm hows your day going?\n",
       "220002  I want more snap streaks so I can see cute boi...\n",
       "220003  I read an interesting article on notesI starte...\n",
       "220004  The horrors of the climbing unit in Gym class ..."
      ]
     },
     "execution_count": 7,
     "metadata": {},
     "output_type": "execute_result"
    }
   ],
   "source": [
    "# Defining Features Matrix\n",
    "X = df.drop(['class_suicide'], axis=1)\n",
    "X.head()"
   ]
  },
  {
   "cell_type": "code",
   "execution_count": 8,
   "id": "dfa31cf3",
   "metadata": {},
   "outputs": [
    {
     "data": {
      "text/plain": [
       "220000    0\n",
       "220001    0\n",
       "220002    0\n",
       "220003    1\n",
       "220004    0\n",
       "Name: class_suicide, dtype: uint8"
      ]
     },
     "execution_count": 8,
     "metadata": {},
     "output_type": "execute_result"
    }
   ],
   "source": [
    "# Define Target\n",
    "y = df['class_suicide']\n",
    "y.head()"
   ]
  },
  {
   "cell_type": "code",
   "execution_count": 9,
   "id": "809409e6",
   "metadata": {},
   "outputs": [],
   "source": [
    "# Separate training and testing sets, stratifying by class\n",
    "from sklearn.model_selection import train_test_split\n",
    "X_train, X_test, y_train, y_test = train_test_split(X, y, stratify=y)"
   ]
  },
  {
   "cell_type": "code",
   "execution_count": 10,
   "id": "c8e92225",
   "metadata": {},
   "outputs": [],
   "source": [
    "#Vamos a limpiar los datos de train y test\n",
    "#Usamos Tokennizer que elimine los signos de puntuación y tags html\n",
    "#Hacemos stemming para obtener las raices de las palabras en minusculas\n",
    "#Eliminamos stopwords"
   ]
  },
  {
   "cell_type": "code",
   "execution_count": 11,
   "id": "f2c63606",
   "metadata": {},
   "outputs": [],
   "source": [
    "def clean_reddit(text, tokenizer, stemmer, stopwords):\n",
    "    \n",
    "    #tokens (eliminamos todos los signos de puntuación)\n",
    "    words = tokenizer.tokenize(text)\n",
    "    \n",
    "    #Stemming : raiz y minusculas:\n",
    "    stem_words = [stemmer.stem(x) for x in words]\n",
    "    \n",
    "    #eliminamos stopwords (ya pasaron por stem)\n",
    "    clean_words = [x for x in stem_words if x not in stopwords]\n",
    "    \n",
    "    result = \" \".join(clean_words)\n",
    "    \n",
    "    return(result)"
   ]
  },
  {
   "cell_type": "code",
   "execution_count": 12,
   "id": "3ab50aab",
   "metadata": {},
   "outputs": [
    {
     "name": "stderr",
     "output_type": "stream",
     "text": [
      "[nltk_data] Downloading package stopwords to\n",
      "[nltk_data]     C:\\Users\\Equipo\\AppData\\Roaming\\nltk_data...\n",
      "[nltk_data]   Package stopwords is already up-to-date!\n"
     ]
    },
    {
     "data": {
      "text/plain": [
       "True"
      ]
     },
     "execution_count": 12,
     "metadata": {},
     "output_type": "execute_result"
    }
   ],
   "source": [
    "#Importing for stepwords\n",
    "import nltk\n",
    "nltk.download('stopwords')"
   ]
  },
  {
   "cell_type": "code",
   "execution_count": 13,
   "id": "6dcce73a",
   "metadata": {},
   "outputs": [],
   "source": [
    "#Eliminamos signos de puntuacion\n",
    "\n",
    "tokenizer = RegexpTokenizer(r\"\\w+\")\n",
    "\n",
    "englishStemmer = SnowballStemmer(\"english\")\n",
    "stopwords_en = stopwords.words('english')\n",
    "stopwords_en_stem = [englishStemmer.stem(x) for x in stopwords_en]"
   ]
  },
  {
   "cell_type": "code",
   "execution_count": 14,
   "id": "e9a8bed7",
   "metadata": {},
   "outputs": [],
   "source": [
    "clean_train = [clean_reddit(x, tokenizer, englishStemmer, stopwords_en_stem) for x in X_train.text]"
   ]
  },
  {
   "cell_type": "code",
   "execution_count": 15,
   "id": "188e0e97",
   "metadata": {},
   "outputs": [],
   "source": [
    "clean_test = [clean_reddit(x, tokenizer, englishStemmer, stopwords_en_stem) for x in X_test.text]"
   ]
  },
  {
   "cell_type": "code",
   "execution_count": 16,
   "id": "5cda9163",
   "metadata": {},
   "outputs": [],
   "source": [
    "#CountVectorizer para transformar los datos de train y test\n",
    "\n",
    "count_vectorizer = CountVectorizer()\n",
    "count_vectorizer.fit(clean_train)\n",
    "X_train_sparse = count_vectorizer.transform(clean_train)\n",
    "X_test_sparse = count_vectorizer.transform(clean_test)"
   ]
  },
  {
   "cell_type": "code",
   "execution_count": 17,
   "id": "ebb6ed31",
   "metadata": {},
   "outputs": [],
   "source": [
    "X_train = pd.DataFrame(X_train_sparse.todense(), \n",
    "             columns = count_vectorizer.get_feature_names())"
   ]
  },
  {
   "cell_type": "code",
   "execution_count": 18,
   "id": "ea614998",
   "metadata": {},
   "outputs": [],
   "source": [
    "X_test = pd.DataFrame(X_test_sparse.todense(), \n",
    "             columns = count_vectorizer.get_feature_names()) "
   ]
  },
  {
   "cell_type": "code",
   "execution_count": 25,
   "id": "0c10257a",
   "metadata": {},
   "outputs": [],
   "source": [
    "from sklearn.tree import DecisionTreeClassifier\n",
    "from sklearn.pipeline import Pipeline"
   ]
  },
  {
   "cell_type": "code",
   "execution_count": 26,
   "id": "fcfa8127",
   "metadata": {},
   "outputs": [],
   "source": [
    "pasos = [('decision_tree',DecisionTreeClassifier())]"
   ]
  },
  {
   "cell_type": "code",
   "execution_count": 27,
   "id": "601dc158",
   "metadata": {},
   "outputs": [],
   "source": [
    "pipe = Pipeline(pasos)"
   ]
  },
  {
   "cell_type": "code",
   "execution_count": 29,
   "id": "1f88cabd",
   "metadata": {},
   "outputs": [],
   "source": [
    "model = pipe.fit(X_train,y_train)"
   ]
  },
  {
   "cell_type": "code",
   "execution_count": 30,
   "id": "e54d7e5b",
   "metadata": {},
   "outputs": [],
   "source": [
    "from sklearn.metrics import accuracy_score\n",
    "from sklearn.metrics import confusion_matrix"
   ]
  },
  {
   "cell_type": "code",
   "execution_count": 32,
   "id": "27353e9f",
   "metadata": {},
   "outputs": [
    {
     "name": "stdout",
     "output_type": "stream",
     "text": [
      "0.8287512421331567\n",
      "[[1256  258]\n",
      " [ 259 1246]]\n"
     ]
    }
   ],
   "source": [
    "predict_tree_cat = model.predict(X_test)\n",
    "accuracy_tree = accuracy_score(y_test, predict_tree_cat)\n",
    "print(accuracy_tree)\n",
    "conf_mat_tree = confusion_matrix(y_test, predict_tree_cat)\n",
    "print(conf_mat_tree)"
   ]
  },
  {
   "cell_type": "code",
   "execution_count": 33,
   "id": "6e05c0cc",
   "metadata": {},
   "outputs": [
    {
     "name": "stdout",
     "output_type": "stream",
     "text": [
      "              precision    recall  f1-score   support\n",
      "\n",
      "           0       0.83      0.83      0.83      1514\n",
      "           1       0.83      0.83      0.83      1505\n",
      "\n",
      "    accuracy                           0.83      3019\n",
      "   macro avg       0.83      0.83      0.83      3019\n",
      "weighted avg       0.83      0.83      0.83      3019\n",
      "\n"
     ]
    }
   ],
   "source": [
    "from sklearn.metrics import classification_report\n",
    "print(classification_report(y_test, predict_tree_cat))"
   ]
  },
  {
   "cell_type": "code",
   "execution_count": null,
   "id": "e0240abc",
   "metadata": {},
   "outputs": [],
   "source": []
  }
 ],
 "metadata": {
  "kernelspec": {
   "display_name": "Python 3 (ipykernel)",
   "language": "python",
   "name": "python3"
  },
  "language_info": {
   "codemirror_mode": {
    "name": "ipython",
    "version": 3
   },
   "file_extension": ".py",
   "mimetype": "text/x-python",
   "name": "python",
   "nbconvert_exporter": "python",
   "pygments_lexer": "ipython3",
   "version": "3.8.12"
  }
 },
 "nbformat": 4,
 "nbformat_minor": 5
}
