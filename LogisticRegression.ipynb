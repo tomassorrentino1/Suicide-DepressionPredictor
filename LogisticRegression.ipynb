{
 "cells": [
  {
   "cell_type": "code",
   "execution_count": 1,
   "id": "46722620",
   "metadata": {},
   "outputs": [],
   "source": [
    "import pandas as pd\n",
    "import numpy as np\n",
    "import re\n",
    "import plotly.express as px\n",
    "import seaborn as sns\n",
    "import matplotlib.pyplot as plt\n",
    "import warnings\n",
    "warnings.filterwarnings('ignore')"
   ]
  },
  {
   "cell_type": "code",
   "execution_count": 2,
   "id": "55489e9a",
   "metadata": {},
   "outputs": [],
   "source": [
    "df = pd.read_csv('Suicide_Detection.csv', engine='python')"
   ]
  },
  {
   "cell_type": "code",
   "execution_count": 3,
   "id": "be9f90ce",
   "metadata": {},
   "outputs": [
    {
     "data": {
      "text/html": [
       "<div>\n",
       "<style scoped>\n",
       "    .dataframe tbody tr th:only-of-type {\n",
       "        vertical-align: middle;\n",
       "    }\n",
       "\n",
       "    .dataframe tbody tr th {\n",
       "        vertical-align: top;\n",
       "    }\n",
       "\n",
       "    .dataframe thead th {\n",
       "        text-align: right;\n",
       "    }\n",
       "</style>\n",
       "<table border=\"1\" class=\"dataframe\">\n",
       "  <thead>\n",
       "    <tr style=\"text-align: right;\">\n",
       "      <th></th>\n",
       "      <th>Unnamed: 0</th>\n",
       "      <th>text</th>\n",
       "      <th>class</th>\n",
       "    </tr>\n",
       "  </thead>\n",
       "  <tbody>\n",
       "    <tr>\n",
       "      <th>0</th>\n",
       "      <td>2</td>\n",
       "      <td>Ex Wife Threatening SuicideRecently I left my ...</td>\n",
       "      <td>suicide</td>\n",
       "    </tr>\n",
       "    <tr>\n",
       "      <th>1</th>\n",
       "      <td>3</td>\n",
       "      <td>Am I weird I don't get affected by compliments...</td>\n",
       "      <td>non-suicide</td>\n",
       "    </tr>\n",
       "    <tr>\n",
       "      <th>2</th>\n",
       "      <td>4</td>\n",
       "      <td>Finally 2020 is almost over... So I can never ...</td>\n",
       "      <td>non-suicide</td>\n",
       "    </tr>\n",
       "    <tr>\n",
       "      <th>3</th>\n",
       "      <td>8</td>\n",
       "      <td>i need helpjust help me im crying so hard</td>\n",
       "      <td>suicide</td>\n",
       "    </tr>\n",
       "    <tr>\n",
       "      <th>4</th>\n",
       "      <td>9</td>\n",
       "      <td>Iâ€™m so lostHello, my name is Adam (16) and I...</td>\n",
       "      <td>suicide</td>\n",
       "    </tr>\n",
       "  </tbody>\n",
       "</table>\n",
       "</div>"
      ],
      "text/plain": [
       "   Unnamed: 0                                               text        class\n",
       "0           2  Ex Wife Threatening SuicideRecently I left my ...      suicide\n",
       "1           3  Am I weird I don't get affected by compliments...  non-suicide\n",
       "2           4  Finally 2020 is almost over... So I can never ...  non-suicide\n",
       "3           8          i need helpjust help me im crying so hard      suicide\n",
       "4           9  Iâ€™m so lostHello, my name is Adam (16) and I...      suicide"
      ]
     },
     "execution_count": 3,
     "metadata": {},
     "output_type": "execute_result"
    }
   ],
   "source": [
    "df.head()"
   ]
  },
  {
   "cell_type": "code",
   "execution_count": 4,
   "id": "835bbf5e",
   "metadata": {},
   "outputs": [],
   "source": [
    "df = pd.get_dummies(df, columns = ['class'], drop_first = True)"
   ]
  },
  {
   "cell_type": "code",
   "execution_count": 5,
   "id": "8ba4215a",
   "metadata": {},
   "outputs": [],
   "source": [
    "df = df.iloc[:,1:]"
   ]
  },
  {
   "cell_type": "code",
   "execution_count": 6,
   "id": "f9072d2d",
   "metadata": {},
   "outputs": [],
   "source": [
    "df = df.iloc[220000:]\n"
   ]
  },
  {
   "cell_type": "code",
   "execution_count": 7,
   "id": "dd0f131f",
   "metadata": {},
   "outputs": [
    {
     "data": {
      "text/plain": [
       "(12074, 2)"
      ]
     },
     "execution_count": 7,
     "metadata": {},
     "output_type": "execute_result"
    }
   ],
   "source": [
    "df.shape"
   ]
  },
  {
   "cell_type": "code",
   "execution_count": 8,
   "id": "46656ed7",
   "metadata": {},
   "outputs": [],
   "source": [
    "from nltk import RegexpTokenizer\n",
    "from nltk.stem.snowball import SnowballStemmer\n",
    "from nltk.corpus import stopwords\n",
    "from sklearn.feature_extraction.text import CountVectorizer"
   ]
  },
  {
   "cell_type": "code",
   "execution_count": 9,
   "id": "8ffe44e8",
   "metadata": {},
   "outputs": [
    {
     "data": {
      "text/html": [
       "<div>\n",
       "<style scoped>\n",
       "    .dataframe tbody tr th:only-of-type {\n",
       "        vertical-align: middle;\n",
       "    }\n",
       "\n",
       "    .dataframe tbody tr th {\n",
       "        vertical-align: top;\n",
       "    }\n",
       "\n",
       "    .dataframe thead th {\n",
       "        text-align: right;\n",
       "    }\n",
       "</style>\n",
       "<table border=\"1\" class=\"dataframe\">\n",
       "  <thead>\n",
       "    <tr style=\"text-align: right;\">\n",
       "      <th></th>\n",
       "      <th>text</th>\n",
       "    </tr>\n",
       "  </thead>\n",
       "  <tbody>\n",
       "    <tr>\n",
       "      <th>220000</th>\n",
       "      <td>My inability to sleep... ...It is frightening....</td>\n",
       "    </tr>\n",
       "    <tr>\n",
       "      <th>220001</th>\n",
       "      <td>I just woke up at 2 pm hows your day going?</td>\n",
       "    </tr>\n",
       "    <tr>\n",
       "      <th>220002</th>\n",
       "      <td>I want more snap streaks so I can see cute boi...</td>\n",
       "    </tr>\n",
       "    <tr>\n",
       "      <th>220003</th>\n",
       "      <td>I read an interesting article on notesI starte...</td>\n",
       "    </tr>\n",
       "    <tr>\n",
       "      <th>220004</th>\n",
       "      <td>The horrors of the climbing unit in Gym class ...</td>\n",
       "    </tr>\n",
       "  </tbody>\n",
       "</table>\n",
       "</div>"
      ],
      "text/plain": [
       "                                                     text\n",
       "220000  My inability to sleep... ...It is frightening....\n",
       "220001        I just woke up at 2 pm hows your day going?\n",
       "220002  I want more snap streaks so I can see cute boi...\n",
       "220003  I read an interesting article on notesI starte...\n",
       "220004  The horrors of the climbing unit in Gym class ..."
      ]
     },
     "execution_count": 9,
     "metadata": {},
     "output_type": "execute_result"
    }
   ],
   "source": [
    "# Defining Features Matrix\n",
    "X = df.drop(['class_suicide'], axis=1)\n",
    "X.head()"
   ]
  },
  {
   "cell_type": "code",
   "execution_count": 10,
   "id": "b6b82f9a",
   "metadata": {},
   "outputs": [
    {
     "data": {
      "text/plain": [
       "220000    0\n",
       "220001    0\n",
       "220002    0\n",
       "220003    1\n",
       "220004    0\n",
       "Name: class_suicide, dtype: uint8"
      ]
     },
     "execution_count": 10,
     "metadata": {},
     "output_type": "execute_result"
    }
   ],
   "source": [
    "# Define Target\n",
    "y = df['class_suicide']\n",
    "y.head()"
   ]
  },
  {
   "cell_type": "code",
   "execution_count": 11,
   "id": "41d37f92",
   "metadata": {},
   "outputs": [],
   "source": [
    "# Separate training and testing sets, stratifying by class\n",
    "from sklearn.model_selection import train_test_split\n",
    "X_train, X_test, y_train, y_test = train_test_split(X, y, stratify=y)"
   ]
  },
  {
   "cell_type": "code",
   "execution_count": 12,
   "id": "8dca023a",
   "metadata": {},
   "outputs": [],
   "source": [
    "#Vamos a limpiar los datos de train y test\n",
    "#Usamos Tokennizer que elimine los signos de puntuación y tags html\n",
    "#Hacemos stemming para obtener las raices de las palabras en minusculas\n",
    "#Eliminamos stopwords"
   ]
  },
  {
   "cell_type": "code",
   "execution_count": 13,
   "id": "ef377bd3",
   "metadata": {},
   "outputs": [],
   "source": [
    "def clean_reddit(text, tokenizer, stemmer, stopwords):\n",
    "    \n",
    "    #tokens (eliminamos todos los signos de puntuación)\n",
    "    words = tokenizer.tokenize(text)\n",
    "    \n",
    "    #Stemming : raiz y minusculas:\n",
    "    stem_words = [stemmer.stem(x) for x in words]\n",
    "    \n",
    "    #eliminamos stopwords (ya pasaron por stem)\n",
    "    clean_words = [x for x in stem_words if x not in stopwords]\n",
    "    \n",
    "    result = \" \".join(clean_words)\n",
    "    \n",
    "    return(result)"
   ]
  },
  {
   "cell_type": "code",
   "execution_count": 14,
   "id": "217ffdcd",
   "metadata": {},
   "outputs": [
    {
     "name": "stderr",
     "output_type": "stream",
     "text": [
      "[nltk_data] Downloading package stopwords to\n",
      "[nltk_data]     C:\\Users\\Equipo\\AppData\\Roaming\\nltk_data...\n",
      "[nltk_data]   Package stopwords is already up-to-date!\n"
     ]
    },
    {
     "data": {
      "text/plain": [
       "True"
      ]
     },
     "execution_count": 14,
     "metadata": {},
     "output_type": "execute_result"
    }
   ],
   "source": [
    "import nltk\n",
    "nltk.download('stopwords')"
   ]
  },
  {
   "cell_type": "code",
   "execution_count": 15,
   "id": "90d05b7c",
   "metadata": {},
   "outputs": [],
   "source": [
    "#Eliminamos signos de puntuacion\n",
    "\n",
    "tokenizer = RegexpTokenizer(r\"\\w+\")\n",
    "\n",
    "englishStemmer = SnowballStemmer(\"english\")\n",
    "stopwords_en = stopwords.words('english')\n",
    "stopwords_en_stem = [englishStemmer.stem(x) for x in stopwords_en]"
   ]
  },
  {
   "cell_type": "code",
   "execution_count": 16,
   "id": "b174e746",
   "metadata": {},
   "outputs": [],
   "source": [
    "clean_train = [clean_reddit(x, tokenizer, englishStemmer, stopwords_en_stem) for x in X_train.text]"
   ]
  },
  {
   "cell_type": "code",
   "execution_count": 17,
   "id": "9928baed",
   "metadata": {},
   "outputs": [],
   "source": [
    "clean_test = [clean_reddit(x, tokenizer, englishStemmer, stopwords_en_stem) for x in X_test.text]"
   ]
  },
  {
   "cell_type": "code",
   "execution_count": 18,
   "id": "6703f437",
   "metadata": {},
   "outputs": [],
   "source": [
    "#CountVectorizer para transformar los datos de train y test\n",
    "\n",
    "count_vectorizer = CountVectorizer()\n",
    "count_vectorizer.fit(clean_train)\n",
    "X_train_sparse = count_vectorizer.transform(clean_train)\n",
    "X_test_sparse = count_vectorizer.transform(clean_test)"
   ]
  },
  {
   "cell_type": "code",
   "execution_count": 19,
   "id": "ad1bcd7e",
   "metadata": {},
   "outputs": [],
   "source": [
    "X_train = pd.DataFrame(X_train_sparse.todense(), \n",
    "             columns = count_vectorizer.get_feature_names())"
   ]
  },
  {
   "cell_type": "code",
   "execution_count": 20,
   "id": "dc943127",
   "metadata": {},
   "outputs": [],
   "source": [
    "X_test = pd.DataFrame(X_test_sparse.todense(), \n",
    "             columns = count_vectorizer.get_feature_names()) "
   ]
  },
  {
   "cell_type": "code",
   "execution_count": 21,
   "id": "a395b108",
   "metadata": {},
   "outputs": [],
   "source": [
    "from sklearn.linear_model import LogisticRegression\n",
    "from sklearn.metrics import accuracy_score, confusion_matrix\n",
    "from sklearn.model_selection import train_test_split"
   ]
  },
  {
   "cell_type": "code",
   "execution_count": 22,
   "id": "a4bf8fa7",
   "metadata": {},
   "outputs": [
    {
     "name": "stdout",
     "output_type": "stream",
     "text": [
      "Accuracy for C=0.005: 0.8542402826855123\n",
      "Accuracy for C=0.008: 0.8617491166077739\n",
      "Accuracy for C=0.01: 0.8683745583038869\n",
      "Accuracy for C=0.05: 0.8873674911660777\n",
      "Accuracy for C=0.25: 0.8975265017667845\n",
      "Accuracy for C=0.5: 0.898851590106007\n",
      "Accuracy for C=1: 0.8957597173144877\n"
     ]
    }
   ],
   "source": [
    "X_train_train, X_train_val, y_train_train, y_train_val = \\\n",
    "    train_test_split(X_train, y_train, train_size = 0.75, shuffle = True, random_state = 147)\n",
    "\n",
    "for c in [0.005, 0.008, 0.01, 0.05, 0.25, 0.5, 1]:    \n",
    "    lr = LogisticRegression(C=c, solver=\"newton-cg\", penalty=\"l2\")    \n",
    "    lr.fit(X_train_train, y_train_train)\n",
    "    print (\"Accuracy for C=%s: %s\" \n",
    "           % (c, accuracy_score(y_train_val, lr.predict(X_train_val))))"
   ]
  },
  {
   "cell_type": "code",
   "execution_count": 23,
   "id": "cfb8a432",
   "metadata": {},
   "outputs": [
    {
     "name": "stdout",
     "output_type": "stream",
     "text": [
      "Final Accuracy: 0.8903610467042067\n",
      "Final Confusion Matrix: \n",
      " [[1420   94]\n",
      " [ 237 1268]]\n"
     ]
    }
   ],
   "source": [
    "final_model = LogisticRegression(C = 1, solver=\"newton-cg\", penalty=\"l2\")\n",
    "final_model.fit(X_train, y_train)\n",
    "print (\"Final Accuracy: %s\" \n",
    "        % accuracy_score(y_test, final_model.predict(X_test)))\n",
    "print (\"Final Confusion Matrix: \\n %s\" \n",
    "        % confusion_matrix(y_test, final_model.predict(X_test)))"
   ]
  },
  {
   "cell_type": "code",
   "execution_count": 24,
   "id": "3b9dee18",
   "metadata": {},
   "outputs": [],
   "source": [
    "from yellowbrick.classifier import ROCAUC"
   ]
  },
  {
   "cell_type": "code",
   "execution_count": 25,
   "id": "cbfd8b80",
   "metadata": {},
   "outputs": [
    {
     "data": {
      "image/png": "[encoded data removed]",
      "text/plain": [
       "<Figure size 864x504 with 1 Axes>"
      ]
     },
     "metadata": {},
     "output_type": "display_data"
    },
    {
     "data": {
      "text/plain": [
       "<AxesSubplot:title={'center':'ROC Curves for LogisticRegression'}, xlabel='False Positive Rate', ylabel='True Positive Rate'>"
      ]
     },
     "execution_count": 25,
     "metadata": {},
     "output_type": "execute_result"
    }
   ],
   "source": [
    "classes = ['Non Suicide','Suicide']\n",
    "fig, ax = plt.subplots(figsize=(12, 7))\n",
    "roc = ROCAUC(final_model, classes=classes, ax=ax)\n",
    "roc.fit(X_train, y_train)\n",
    "roc.score(X_test, y_test)\n",
    "roc.show()"
   ]
  },
  {
   "cell_type": "code",
   "execution_count": 26,
   "id": "922a1044",
   "metadata": {},
   "outputs": [
    {
     "name": "stdout",
     "output_type": "stream",
     "text": [
      "              precision    recall  f1-score   support\n",
      "\n",
      "           0       0.86      0.94      0.90      1514\n",
      "           1       0.93      0.84      0.88      1505\n",
      "\n",
      "    accuracy                           0.89      3019\n",
      "   macro avg       0.89      0.89      0.89      3019\n",
      "weighted avg       0.89      0.89      0.89      3019\n",
      "\n"
     ]
    }
   ],
   "source": [
    "from sklearn.metrics import classification_report\n",
    "print(classification_report(y_test, final_model.predict(X_test)))"
   ]
  },
  {
   "cell_type": "code",
   "execution_count": null,
   "id": "2ba281bc",
   "metadata": {},
   "outputs": [],
   "source": []
  },
  {
   "cell_type": "code",
   "execution_count": null,
   "id": "87e36e9f",
   "metadata": {},
   "outputs": [],
   "source": []
  }
 ],
 "metadata": {
  "kernelspec": {
   "display_name": "Python 3 (ipykernel)",
   "language": "python",
   "name": "python3"
  },
  "language_info": {
   "codemirror_mode": {
    "name": "ipython",
    "version": 3
   },
   "file_extension": ".py",
   "mimetype": "text/x-python",
   "name": "python",
   "nbconvert_exporter": "python",
   "pygments_lexer": "ipython3",
   "version": "3.8.12"
  }
 },
 "nbformat": 4,
 "nbformat_minor": 5
}
